{
 "cells": [
  {
   "cell_type": "markdown",
   "metadata": {},
   "source": [
    "# **Fokusthemenprojekt SoGuR** \n",
    "## *Selbstoptimierende Gebäude und urbane Räume*\n",
    "\n",
    "<div class=\"alert alert-block alert-info\">\n",
    "<b>AP2.3 - Definition prototypischer Quartiere</b></div>\n",
    "\n",
    "- **MS 2.3a**: Plausible Kombinationen der, in AP 2.1 und 2.2 entwickelten, Quartierstypen wurden identifiziert\n",
    "- **MS 2.3b**: Prototypische Quartiere wurden definiert und die Arbeitsergebnisse in einem Kurzbericht dokumentiert\n"
   ]
  },
  {
   "attachments": {},
   "cell_type": "markdown",
   "metadata": {},
   "source": [
    "# Table of contents\n",
    "1. [Settings](#settings)\n",
    "\n",
    "2. [Download Data](#2-download-data)\n",
    "    - 2.1 [Urban Energy Units](#ueu_units)\n",
    "    - 2.2 [Electricity load profiles](#22-electricty-load-profiles)\n",
    "    - 2.3 [Time period](#23-time_period)\n",
    "3. [Plot modelled typical UEU profiles](#Plot)\n",
    "- 3.1 [Data normalization per square meter and proportion of electricity energy consumption of each instant on a year](#plot_e_profile)\n",
    "- 3.2 [Separate the UEU in different classes](#32-separate-the-ueu-in-different-classes) \n",
    "- 3.3 [Arrange the data to be manipulated by securing the date-based-index](#e_data_arrange)\n",
    "- 3.4 [Name dataframes](#34-arrange-the-data-to-be-manipulated-by-securing-the-date-based-index)\n",
    "- 3.5 [Resample the heat in energy consumption per day, week and month](#e_resample)\n",
    "- 3.6 [Plot minimum, maximum and mean heat energy demand in a 24 hours period of a day in Winter, Spring, Summer and Autumn](#e_plot_wssa)\n",
    "- 3.7 [Plotting of only average day on different days a year](#e_plot_avg_day)\n",
    "- 3.8 [Plot minimum, maximum and mean heat energy demand within the months of January, April, July and October](#38-plot-minimum-maximum-and-mean-electricity-at-energy-demand-within-the-months-of-january-april-july-and-october)\n",
    "- 3.9 [Plot drawing per minimum, maximum and mean yearly heat energy demand per UEU](#39-plot-drawing-per-minimum-maximum-and-mean-yearly-electricity-energy-demand-per-ueu)\n",
    "- 3.10 [Separate the min, mean and max values hourly per year](#e_separate_values_hours_year)\n",
    "- 3.11 [Store the min, mean and max dataframes per year in csv files](#e_store_tables_hourly_year)\n",
    "- 3.12 [For normalized mean hourly heat demand in a year, separate the dataframes to plot daily heat changes](#e_separation_of_ueu_tables_hourly_year)\n",
    "- 3.13 [Process data](#e_process_ueu_tables_hourly_year_for_printing)\n",
    "- 3.14 [Filter data](#e_filter_ueu_tables_hourly_year_for_printing)\n",
    "- 3.15 [Plot normalized hourly heat demand per day during a year](#e_printing_ueu_energy_demand_hourly_year)\n",
    "- 3.16 [Descriptive statistics](#e_descrptive_statistics)\n",
    "- 3.17 [Correlation matrix](#e_correlation_matrix)"
   ]
  },
  {
   "cell_type": "markdown",
   "metadata": {},
   "source": [
    "<a id=\"settings\"></a>\n",
    "\n",
    "## 1. Settings"
   ]
  },
  {
   "cell_type": "code",
   "execution_count": null,
   "metadata": {},
   "outputs": [],
   "source": [
    "import os, time\n",
    "import pickle\n",
    "import numpy as np\n",
    "import pandas as pd\n",
    "import geopandas as gpd\n",
    "from scripts.global_variables import database_path, root_path, input_path, output_path\n",
    "import scripts.read as read\n",
    "import matplotlib.pyplot as plt\n",
    "import matplotlib.dates as mdates\n",
    "from matplotlib.ticker import FuncFormatter, FixedLocator\n",
    "from scripts.create_plots import plot_elec_demand_hour as pedh\n",
    "import seaborn as sns\n",
    "from sklearn.metrics import mean_absolute_error\n",
    "from scipy.stats import pearsonr\n",
    "\n",
    "\n",
    "\n",
    "# # Set-up -------------------------------------------\n",
    "Time_Start = time.time()\n",
    "print('Start of execution: ' + time.asctime() + '.')\n",
    "print(\"Database is found under: \" + database_path)\n",
    "print(\"Root directory: \" + root_path)\n",
    "print(\"input data: \"+ input_path)\n",
    "print(\"output data: \"+ output_path)\n",
    "#----------------------------------------------------\n",
    "datetime_index = pd.date_range(start='2100-01-01 00:00:00', end='2100-12-31 23:00:00', freq='1h')"
   ]
  },
  {
   "cell_type": "markdown",
   "metadata": {},
   "source": [
    "<a id=download></a>\n",
    "\n",
    "## 2. Download Data"
   ]
  },
  {
   "cell_type": "markdown",
   "metadata": {},
   "source": [
    "<a id=ueu_units></a>\n",
    "\n",
    "#### 2.1 Urban Energy Units\n",
    "\n",
    "Download the Urban Energy Units for the city of Oldenburg previously defined in AP2.1 of the project"
   ]
  },
  {
   "cell_type": "code",
   "execution_count": null,
   "metadata": {},
   "outputs": [],
   "source": [
    "# df_ueu = gpd.read_file(database_path + \"\\\\ueu_oldenburg.gpkg\").drop(['index'], axis=1)\n",
    "df_ueu = gpd.read_file(database_path + \"\\\\ueu_oldenburg.gpkg\")\n",
    "df_ueu.plot()\n",
    "print(df_ueu[['unique_identifier', 'UEU', 'area_ha']])"
   ]
  },
  {
   "cell_type": "markdown",
   "metadata": {},
   "source": [
    "<a id=elec></a>\n",
    "\n",
    "#### 2.2 Electricty Load Profiles\n",
    "\n",
    "Download the electricity load profiles for each section. The index is set equal to the above defined datetime index. The columns need to be labeled with the unique identifier of the UEUs."
   ]
  },
  {
   "cell_type": "code",
   "execution_count": 9,
   "metadata": {},
   "outputs": [],
   "source": [
    "# loading data\n",
    "df_ueu_elec = pd.read_pickle(input_path + \"\\\\ueu_electricity_load_profiles.pkl\")\n",
    "# dropping innecesary columns\n",
    "df_ueu_elec.drop(['Time (h)'],axis=1,inplace=True)\n",
    "\n",
    "#generating a copy of the unique_identifier of the UEU filtering by residential so that it is compatible with the elctricity dataframe\n",
    "df = df_ueu.copy()\n",
    "df['fid'] = (df.index + 1).astype(str)\n",
    "\n",
    "# Filter df based on conditions\n",
    "df = df[(df['landuse'] == 'residential') & (df['number_of_apartments'] > 0)]\n",
    "\n",
    "# Set index and select columns\n",
    "df = df.set_index('fid')[['unique_identifier']]\n",
    "\n",
    "# mapping the correspoing unique_identifier to each load profile\n",
    "df_ueu_elec.columns = df.loc[df_ueu_elec.columns, 'unique_identifier']\n",
    "# arranging dataframe so that it is consistant with the heat load profiles\n",
    "df_ueu_elec.rename_axis(None, axis=1, inplace=True)\n",
    "df_ueu_elec.set_index(datetime_index, inplace=True)\n",
    "\n",
    "df_ueu_elec = df_ueu_elec/60\n",
    "# show dataframe\n",
    "# df_ueu_elec.head(5)"
   ]
  },
  {
   "cell_type": "markdown",
   "metadata": {},
   "source": [
    "<a id=\"time_period\"></a>\n",
    "\n",
    "#### 2.3 Time_period\n",
    "\n"
   ]
  },
  {
   "cell_type": "code",
   "execution_count": null,
   "metadata": {},
   "outputs": [],
   "source": [
    "Time_End = time.time()\n",
    "Time_Duration = Time_End - Time_Start\n",
    "print('End of execution: ' + time.asctime() + '.')\n",
    "print('Total processing time: %.1f seconds.' % Time_Duration)"
   ]
  },
  {
   "attachments": {},
   "cell_type": "markdown",
   "metadata": {},
   "source": [
    "<a id=\"plot\"></a>\n",
    "\n",
    "#### 3. Plot modelled UEU"
   ]
  },
  {
   "attachments": {},
   "cell_type": "markdown",
   "metadata": {},
   "source": [
    "<a id=\"plot_e_profile\"></a>\n",
    "\n",
    "#### 3.1 Plot electricity load profile"
   ]
  },
  {
   "cell_type": "code",
   "execution_count": 12,
   "metadata": {},
   "outputs": [],
   "source": [
    "# generating a copy of the UEU_Classification of the UEU filtering by residential so that it is compatible with the elctricity dataframe\n",
    "df = df_ueu.copy()\n",
    "df['fid'] = (df.index + 1).astype(str) \n",
    "\n",
    "df = df[(df['landuse'] == 'residential') & (df['number_of_apartments'] > 0)].set_index('fid')[['UEU','area_ha', 'unique_identifier']]\n",
    "\n",
    "# Create a list of unique identifiers present in df_ueu_elec columns\n",
    "common_identifiers = df_ueu_elec.columns\n",
    "# Filter df['unique_identifier'] based on common identifiers\n",
    "df = df[df['unique_identifier'].isin(common_identifiers)]\n",
    "\n",
    "# loading data\n",
    "df_ueu_elec = pd.read_pickle(input_path + \"\\\\ueu_electricity_load_profiles.pkl\")\n",
    "# dropping innecesary columns\n",
    "df_ueu_elec.drop(['Time (h)'],axis=1,inplace=True)\n",
    "\n",
    "# mapping the correspoing UEU_Classification to each load profile\n",
    "df_ueu_elec.columns = df.loc[df_ueu_elec.columns, 'UEU']\n",
    "\n",
    "# Set the defined index\n",
    "df_ueu_elec.set_index(datetime_index, inplace=True)\n",
    "\n",
    "# Add the 'Area Ha' column from the df Dataframe to the last row of the df_ueu_elec DataFrame\n",
    "df_ueu_elec.loc['Area'] = df['area_ha'].values\n",
    "\n",
    "# Normalize the data dividing the modelled electrical energy demand by the UEU's Area.\n",
    "df_ueu_elec.iloc[:-1] = df_ueu_elec.iloc[:-1].div(df_ueu_elec.iloc[-1], axis=1)\n",
    "\n",
    "# drop the unnecessary row: \"Area\"\n",
    "df_ueu_elec = df_ueu_elec.drop(df_ueu_elec.index[-1])\n",
    "\n",
    "# Sum all values on each column\n",
    "column_sums = df_ueu_elec.sum()\n",
    "\n",
    "# Add the 'sum' row to the DataFrame\n",
    "df_ueu_elec.loc['sum'] = column_sums\n",
    "\n",
    "# Normalize the data dividing the Normalized modelled electrical energy demand by the 'Sum' per column.\n",
    "df_ueu_elec.iloc[:-1] = df_ueu_elec.iloc[:-1].div(df_ueu_elec.iloc[-1], axis=1)\n",
    "\n",
    "# drop the unnecessary row: \"sum\"\n",
    "df_ueu_elec = df_ueu_elec.drop(df_ueu_elec.index[-1])\n",
    "\n",
    "# Round results to 10 decimals\n",
    "df_ueu_elec = np.round(df_ueu_elec, decimals = 10)\n",
    "\n",
    "# Add the 'unique_identifier' column from the df Dataframe to the last row of the df_ueu_elec DataFrame\n",
    "df_ueu_elec.loc['unique_identifier'] = df['unique_identifier'].values"
   ]
  },
  {
   "attachments": {},
   "cell_type": "markdown",
   "metadata": {},
   "source": [
    "<a id=\"UEU_classes\"></a>\n",
    "\n",
    "#### 3.2 Separate the UEU in different classes"
   ]
  },
  {
   "cell_type": "code",
   "execution_count": 13,
   "metadata": {},
   "outputs": [],
   "source": [
    "# Create the new DataFrames 'df_UEUi', i ∈ [1,16], containing only columns with header 'UEUi'\n",
    "df_UEU1 = df_ueu_elec.filter(like='UEU1', axis=1)\n",
    "df_UEU2 = df_ueu_elec.filter(like='UEU2', axis=1)\n",
    "df_UEU3 = df_ueu_elec.filter(like='UEU3', axis=1)\n",
    "df_UEU4 = df_ueu_elec.filter(like='UEU4', axis=1)\n",
    "df_UEU5 = df_ueu_elec.filter(like='UEU5', axis=1)\n",
    "df_UEU7 = df_ueu_elec.filter(like='UEU7', axis=1)\n",
    "df_UEU8 = df_ueu_elec.filter(like='UEU8', axis=1)\n",
    "df_UEU9 = df_ueu_elec.filter(like='UEU9', axis=1)"
   ]
  },
  {
   "attachments": {},
   "cell_type": "markdown",
   "metadata": {},
   "source": [
    "<a id=\"e_data_arrange\"></a>\n",
    "\n",
    "#### 3.3 Arrange the data to be manipulated by securing the date-based-index "
   ]
  },
  {
   "cell_type": "code",
   "execution_count": 14,
   "metadata": {},
   "outputs": [],
   "source": [
    "from scripts.process_ueu_df import process_ueu as pad\n",
    "\n",
    "df_UEU1_el = pad(df_UEU1)\n",
    "df_UEU2_el = pad(df_UEU2)\n",
    "df_UEU3_el = pad(df_UEU3)\n",
    "df_UEU4_el = pad(df_UEU4)\n",
    "df_UEU5_el = pad(df_UEU5)\n",
    "df_UEU7_el = pad(df_UEU7)\n",
    "df_UEU8_el = pad(df_UEU8)\n",
    "df_UEU9_el = pad(df_UEU9)"
   ]
  },
  {
   "attachments": {},
   "cell_type": "markdown",
   "metadata": {},
   "source": [
    "<a id=\"e_Name_Dataframes\"></a>\n",
    "\n",
    "#### 3.4 Arrange the data to be manipulated by securing the date-based-index "
   ]
  },
  {
   "cell_type": "code",
   "execution_count": 15,
   "metadata": {},
   "outputs": [],
   "source": [
    "# Reset index\n",
    "# List of DataFrame names\n",
    "df_names = ['df_UEU1_el', 'df_UEU2_el', 'df_UEU3_el', 'df_UEU4_el', 'df_UEU5_el', 'df_UEU7_el', 'df_UEU8_el', 'df_UEU9_el']\n",
    "\n",
    "# Iterate over DataFrame names and set the index\n",
    "for df_name in df_names:\n",
    "    df = globals()[df_name]  # Get the DataFrame by name\n",
    "    df.index = datetime_index[:len(df)]"
   ]
  },
  {
   "attachments": {},
   "cell_type": "markdown",
   "metadata": {},
   "source": [
    "<a id=\"e_resample\"></a>\n",
    "\n",
    "#### 3.5 Resample the electricity energy demand per day, week and month"
   ]
  },
  {
   "cell_type": "code",
   "execution_count": 16,
   "metadata": {},
   "outputs": [],
   "source": [
    "from scripts.resampling_fn import resample_dataframes as rs\n",
    "\n",
    "df_UEU1_el_day, df_UEU1_el_week, df_UEU1_el_monthly = rs(df_UEU1_el)\n",
    "df_UEU2_el_day, df_UEU2_el_week, df_UEU2_el_monthly = rs(df_UEU2_el)\n",
    "df_UEU3_el_day, df_UEU3_el_week, df_UEU3_el_monthly = rs(df_UEU3_el)\n",
    "df_UEU4_el_day, df_UEU4_el_week, df_UEU4_el_monthly = rs(df_UEU4_el)\n",
    "df_UEU5_el_day, df_UEU5_el_week, df_UEU5_el_monthly = rs(df_UEU5_el)\n",
    "df_UEU7_el_day, df_UEU7_el_week, df_UEU7_el_monthly = rs(df_UEU7_el)\n",
    "df_UEU8_el_day, df_UEU8_el_week, df_UEU8_el_monthly = rs(df_UEU8_el)\n",
    "df_UEU9_el_day, df_UEU9_el_week, df_UEU9_el_monthly = rs(df_UEU9_el)"
   ]
  },
  {
   "attachments": {},
   "cell_type": "markdown",
   "metadata": {},
   "source": [
    "<a id=\"e_plot_wssa\"></a>\n",
    "\n",
    "#### 3.6 Plot minimum, maximum and mean electricitiy energy demand in a 24 hours period of a day in Winter, Spring, Summer and Autumn"
   ]
  },
  {
   "cell_type": "code",
   "execution_count": null,
   "metadata": {},
   "outputs": [],
   "source": [
    "\n",
    "data_frames = [df_UEU1_el, df_UEU2_el, df_UEU3_el, df_UEU4_el, df_UEU5_el, df_UEU7_el, df_UEU8_el, df_UEU9_el]\n",
    "labels = ['UEU1', 'UEU2', 'UEU3', 'UEU4', 'UEU5', 'UEU8', 'UEU8', 'UEU9']\n",
    "target_dates = pd.to_datetime(['2100-01-15', '2100-04-16', '2100-07-16', '2100-10-15'])\n",
    "line_colors = ['red', 'blue', 'green', 'orange', 'purple', 'lightseagreen', 'magenta', 'steelblue']\n",
    "face_colors = ['red', 'blue', 'green', 'orange', 'purple', 'lightseagreen', 'magenta', 'steelblue']\n",
    "\n",
    "pedh(data_frames, labels, target_dates, line_colors, face_colors)"
   ]
  },
  {
   "attachments": {},
   "cell_type": "markdown",
   "metadata": {},
   "source": [
    "<a id=\"e_plot_avg_day\"></a>\n",
    "\n",
    "### 3.7 Plotting of only average day on different days a year"
   ]
  },
  {
   "cell_type": "code",
   "execution_count": null,
   "metadata": {},
   "outputs": [],
   "source": [
    "import matplotlib.pyplot as plt\n",
    "import matplotlib.dates as mdates\n",
    "from matplotlib.ticker import FuncFormatter, FixedLocator\n",
    "\n",
    "def plot_elec_demand_hour(data_frames, labels, target_dates, line_colors, face_colors):\n",
    "# Convert target dates to datetime objects (remove this line to use the provided target_dates)\n",
    "    target_dates = pd.to_datetime(target_dates)\n",
    "\n",
    "    # Create a figure with 4 subplots for each DataFrame\n",
    "    num_data_frames = len(data_frames)\n",
    "    num_target_dates = len(target_dates)\n",
    "    fig, axs = plt.subplots(num_data_frames, num_target_dates, figsize=(25, 32), sharey=True)\n",
    "\n",
    "    for i, df in enumerate(data_frames):\n",
    "        # Process the DataFrame\n",
    "        df = df.apply(pd.to_numeric, errors='coerce').dropna(axis=1, how='all')\n",
    "\n",
    "        # Calculate min, max, and mean values for each row in the processed DataFrame\n",
    "        #hourly_min = df.min(axis=1)\n",
    "        #hourly_max = df.max(axis=1)\n",
    "        hourly_mean = df.mean(axis=1)\n",
    "\n",
    "        for j, target_date in enumerate(target_dates):\n",
    "            start_time = target_date\n",
    "            end_time = target_date + pd.DateOffset(hours=23)\n",
    "\n",
    "           # filtered_min = hourly_min[start_time:end_time]\n",
    "           # filtered_max = hourly_max[start_time:end_time]\n",
    "            filtered_mean = hourly_mean[start_time:end_time]\n",
    "\n",
    "            ax = axs[i, j]  # Get the current subplot\n",
    "\n",
    "            # Plot min, mean, and max values on the current subplot with customizable colors\n",
    "            line_color = line_colors[i % len(line_colors)]  # Cycle through colors\n",
    "            #ax.plot(filtered_min.index, filtered_min, label='Min', linewidth=0.5, color=line_color)\n",
    "            ax.plot(filtered_mean.index, filtered_mean, label='Mean', linewidth=2, color=line_color)\n",
    "            #ax.plot(filtered_max.index, filtered_max, label='Max', linewidth=0.5, color=line_color)\n",
    "            \n",
    "           # face_color = face_colors[i % len(face_colors)]  # Cycle through colors\n",
    "           # ax.fill_between(filtered_mean.index, filtered_min, filtered_mean, facecolor=face_color, alpha=0.2)\n",
    "           # ax.fill_between(filtered_mean.index, filtered_mean, filtered_max, facecolor=face_color, alpha=0.2)\n",
    "\n",
    "            ax.set_xticks(filtered_mean.index)\n",
    "\n",
    "            # Customize subplot titles and legends using labels parameter\n",
    "            if i == 0:\n",
    "                ax.set_title(f'{target_date.strftime(\"%B-%d\")}')\n",
    "            \n",
    "            # Add grid lines to the current subplot\n",
    "            ax.grid(color='#FFFFFF', linestyle='dashed', linewidth=1)\n",
    "            ax.set_xlim(start_time, end_time)\n",
    "\n",
    "            #'{:.3%}' specifies that the y-axis labels should be formatted as percentages with three decimal places. \n",
    "            # This will format values like 0.000000% as 0.000% and values like 0.004000% as 0.004%.\n",
    "            ax.yaxis.set_major_formatter(FuncFormatter(lambda y, _: '{:.3%}'.format(y)))\n",
    "\n",
    "            # Check if we are in the last set of 4 plots (corresponding to the last dataframe)\n",
    "            if i == len(data_frames) - 1:\n",
    "                ax.tick_params(axis='x')  # Show x-axis labels for the last set\n",
    "                ax.set_xlabel(f'Time (h)')\n",
    "                ax.set_xticklabels([hour.strftime(\"%H\") for hour in filtered_mean.index])            \n",
    "            \n",
    "            else:\n",
    "                ax.set_xticklabels([])  # Hide x-axis labels for other sets\n",
    "\n",
    "        # Display the legend for the first subplot in the set of four\n",
    "        axs[i, 0].legend(loc = \"upper left\", title = labels[i])\n",
    "        axs[i, 0].set_ylabel(f'Normalized electricity demand')\n",
    "        \n",
    "    # Display the subplots\n",
    "    plt.tight_layout()\n",
    "    plt.subplots_adjust(wspace=0.1, hspace=0.2)\n",
    "    plt.show()\n",
    "\n",
    "data_frames = [df_UEU1_el, df_UEU2_el, df_UEU3_el, df_UEU4_el, df_UEU5_el, df_UEU7_el, df_UEU8_el, df_UEU9_el]\n",
    "labels = ['UEU1', 'UEU2', 'UEU3', 'UEU4', 'UEU5', 'UEU8', 'UEU8', 'UEU9']\n",
    "target_dates = pd.to_datetime(['2100-01-15', '2100-04-16', '2100-07-16', '2100-10-15'])\n",
    "line_colors = ['red', 'blue', 'green', 'orange', 'purple', 'lightseagreen', 'magenta', 'steelblue']\n",
    "face_colors = ['red', 'blue', 'green', 'orange', 'purple', 'lightseagreen', 'magenta', 'steelblue']\n",
    "\n",
    "plot_elec_demand_hour(data_frames, labels, target_dates, line_colors, face_colors)"
   ]
  },
  {
   "attachments": {},
   "cell_type": "markdown",
   "metadata": {},
   "source": [
    "<a id=e_Plot_months></a>\n",
    "\n",
    "#### 3.8 Plot minimum, maximum and mean electricity at energy demand within the months of January, April, July and October"
   ]
  },
  {
   "cell_type": "code",
   "execution_count": null,
   "metadata": {},
   "outputs": [],
   "source": [
    "from scripts.create_plots import plot_electricity_demand_month as pedm\n",
    "\n",
    "data_frames = [df_UEU1_el_day, df_UEU2_el_day, df_UEU3_el_day, df_UEU4_el_day, df_UEU5_el_day, df_UEU7_el_day, df_UEU8_el_day, df_UEU9_el_day]\n",
    "labels = ['UEU1', 'UEU2', 'UEU3', 'UEU4', 'UEU5', 'UEU8', 'UEU8', 'UEU9']\n",
    "line_colors = ['red', 'blue', 'green', 'orange', 'purple', 'lightseagreen', 'magenta', 'steelblue']  # Customize line colors\n",
    "face_colors = ['red', 'blue', 'green', 'orange', 'purple', 'lightseagreen', 'magenta', 'steelblue']  # Customize face colors\n",
    "\n",
    "# Define date ranges\n",
    "date_ranges = [\n",
    "    ('2100-01-01', '2100-01-31'),\n",
    "    ('2100-04-01', '2100-04-30'),\n",
    "    ('2100-07-01', '2100-07-31'),\n",
    "    ('2100-10-01', '2100-10-31')\n",
    "]\n",
    "\n",
    "pedm(data_frames, labels, line_colors, face_colors, date_ranges)"
   ]
  },
  {
   "attachments": {},
   "cell_type": "markdown",
   "metadata": {},
   "source": [
    "<a id=e_Plot_year></a>\n",
    "\n",
    "#### 3.9 Plot drawing per minimum, maximum and mean yearly electricity energy demand per UEU"
   ]
  },
  {
   "cell_type": "code",
   "execution_count": null,
   "metadata": {},
   "outputs": [],
   "source": [
    "from scripts.create_plots import plot_electricity_demand_year as pedy\n",
    "\n",
    "data_frames = [df_UEU1_el_day, df_UEU2_el_day, df_UEU3_el_day, df_UEU4_el_day, df_UEU5_el_day, df_UEU7_el_day, df_UEU8_el_day, df_UEU9_el_day]\n",
    "labels = ['UEU1', 'UEU2', 'UEU3', 'UEU4', 'UEU5', 'UEU7', 'UEU8', 'UEU9']\n",
    "line_colors = ['red', 'blue', 'green', 'orange', 'purple', 'lightseagreen', 'magenta', 'steelblue']  # Customize line colors\n",
    "face_colors = ['red', 'blue', 'green', 'orange', 'purple', 'lightseagreen', 'magenta', 'steelblue']  # Customize face colors\n",
    "\n",
    "start_date = '2100-01-01'\n",
    "end_date = '2100-12-31'\n",
    "\n",
    "pedy(data_frames, labels, start_date, end_date, line_colors, face_colors)"
   ]
  },
  {
   "attachments": {},
   "cell_type": "markdown",
   "metadata": {},
   "source": [
    "<a id=e_separate_values_hours_year></a>\n",
    "\n",
    "#### 3.10 Separate the min, mean and max values hourly per year"
   ]
  },
  {
   "cell_type": "code",
   "execution_count": 22,
   "metadata": {},
   "outputs": [],
   "source": [
    "from scripts.tables import process_date_range as pdr\n",
    "\n",
    "dataframes = [df_UEU1_el, df_UEU2_el, df_UEU3_el, df_UEU4_el, df_UEU5_el, df_UEU7_el, df_UEU8_el, df_UEU9_el]\n",
    "labels = ['UEU1_el', 'UEU2_el', 'UEU3_el', 'UEU4_el', 'UEU5_el', 'UEU7_el', 'UEU8_el', 'UEU9_el']\n",
    "\n",
    "# Define the target date range\n",
    "start_date_1 = pd.to_datetime('2100-01-01 00:00:00')\n",
    "end_date_1 = pd.to_datetime('2100-12-31 23:00:00')\n",
    "\n",
    "e_min_h_year, e_max_h_year, e_mean_h_year = pdr(dataframes, labels, start_date_1, end_date_1)"
   ]
  },
  {
   "attachments": {},
   "cell_type": "markdown",
   "metadata": {},
   "source": [
    "<a id=e_store_tables_hourly_year></a>\n",
    "\n",
    "#### 3.11 Store the min, mean and max dataframes hourly per year in csv files"
   ]
  },
  {
   "cell_type": "code",
   "execution_count": 23,
   "metadata": {},
   "outputs": [],
   "source": [
    "e_min_h_year.to_csv(output_path + \"\\\\e_min_h_year.csv\", index=False)\n",
    "e_max_h_year.to_csv(output_path + \"\\\\e_max_h_year.csv\", index=False)\n",
    "e_mean_h_year.to_csv(output_path + \"\\\\e_mean_h_year.csv\", index=False)"
   ]
  },
  {
   "attachments": {},
   "cell_type": "markdown",
   "metadata": {},
   "source": [
    "<a id=e_separation_of_ueu_tables_hourly_year></a>\n",
    "\n",
    "#### 3.12 For normalized mean hourly electricity demand in a year, separate the dataframes to plot daily electricity changes"
   ]
  },
  {
   "cell_type": "code",
   "execution_count": 24,
   "metadata": {},
   "outputs": [],
   "source": [
    "from scripts.create_plots import separate as sp\n",
    "\n",
    "e_ueu1_copy = sp(e_mean_h_year, 0)\n",
    "e_ueu2_copy = sp(e_mean_h_year, 1)\n",
    "e_ueu3_copy = sp(e_mean_h_year, 2)\n",
    "e_ueu4_copy = sp(e_mean_h_year, 3)\n",
    "e_ueu5_copy = sp(e_mean_h_year, 4)\n",
    "e_ueu7_copy = sp(e_mean_h_year, 5)\n",
    "e_ueu8_copy = sp(e_mean_h_year, 6)\n",
    "e_ueu9_copy = sp(e_mean_h_year, 7)"
   ]
  },
  {
   "attachments": {},
   "cell_type": "markdown",
   "metadata": {},
   "source": [
    "<a id=e_process_ueu_tables_hourly_year_for_printing></a>\n",
    "\n",
    "#### 3.13 Process data"
   ]
  },
  {
   "cell_type": "code",
   "execution_count": 25,
   "metadata": {},
   "outputs": [],
   "source": [
    "from scripts.create_plots import process_data\n",
    "\n",
    "e_ueu1_copy = process_data(e_ueu1_copy, 'UEU1_el')\n",
    "e_ueu2_copy = process_data(e_ueu2_copy, 'UEU2_el')\n",
    "e_ueu3_copy = process_data(e_ueu3_copy, 'UEU3_el')\n",
    "e_ueu4_copy = process_data(e_ueu4_copy, 'UEU4_el')\n",
    "e_ueu5_copy = process_data(e_ueu5_copy, 'UEU5_el')\n",
    "e_ueu7_copy = process_data(e_ueu7_copy, 'UEU7_el')\n",
    "e_ueu8_copy = process_data(e_ueu8_copy, 'UEU8_el')\n",
    "e_ueu9_copy = process_data(e_ueu9_copy, 'UEU9_el') "
   ]
  },
  {
   "attachments": {},
   "cell_type": "markdown",
   "metadata": {},
   "source": [
    "<a id=e_filter_ueu_tables_hourly_year_for_printing></a>\n",
    "\n",
    "#### 3.14 Filter data"
   ]
  },
  {
   "cell_type": "code",
   "execution_count": 26,
   "metadata": {},
   "outputs": [],
   "source": [
    "from scripts.create_plots import filter_dataframe as fd\n",
    "\n",
    "e_ueu1 = fd(e_ueu1_copy)\n",
    "e_ueu2 = fd(e_ueu2_copy)\n",
    "e_ueu3 = fd(e_ueu3_copy)\n",
    "e_ueu4 = fd(e_ueu4_copy)\n",
    "e_ueu5 = fd(e_ueu5_copy)\n",
    "e_ueu7 = fd(e_ueu7_copy)\n",
    "e_ueu8 = fd(e_ueu8_copy)\n",
    "e_ueu9 = fd(e_ueu9_copy)"
   ]
  },
  {
   "attachments": {},
   "cell_type": "markdown",
   "metadata": {},
   "source": [
    "<a id=e_printing_ueu_energy_demand_hourly_year></a>\n",
    "\n",
    "#### 3.15 Plot normalized hourly electricity demand per day during a year"
   ]
  },
  {
   "cell_type": "code",
   "execution_count": null,
   "metadata": {},
   "outputs": [],
   "source": [
    "from scripts.create_plots import plot_energy_demand_distribution as pedd\n",
    "\n",
    "# List of dataframes and labels\n",
    "data_frames = [e_ueu1, e_ueu2, e_ueu3, e_ueu4, e_ueu5, e_ueu7, e_ueu8, e_ueu9]\n",
    "labels = ['UEU1', 'UEU2', 'UEU3', 'UEU4', 'UEU5', 'UEU7', 'UEU8', 'UEU9']\n",
    "\n",
    "# Call the function to plot all dataframes\n",
    "pedd(data_frames, labels)\n"
   ]
  },
  {
   "cell_type": "markdown",
   "metadata": {},
   "source": [
    "<a id=e_descrptive_statistics></a>\n",
    "\n",
    "### 3.16 Descriptive statistics"
   ]
  },
  {
   "cell_type": "code",
   "execution_count": 32,
   "metadata": {},
   "outputs": [],
   "source": [
    "# First guarantee the data type as floats\n",
    "e_min_h_year = e_min_h_year.astype(float)\n",
    "e_mean_h_year = e_mean_h_year.astype(float)\n",
    "e_max_h_year = e_max_h_year.astype(float)\n",
    "\n",
    "# Calculate descriptive statistics\n",
    "min_desc = e_min_h_year.describe()\n",
    "mean_desc = e_mean_h_year.describe()\n",
    "max_desc = e_max_h_year.describe()\n",
    "\n",
    "# Path where the Excel file will be saved\n",
    "file_path = output_path + '\\\\descriptive_statistics.xlsx'\n",
    "\n",
    "# Use ExcelWriter to write each DataFrame to a separate sheet\n",
    "with pd.ExcelWriter(file_path, engine='openpyxl') as writer:\n",
    "    min_desc.to_excel(writer, sheet_name='Min Descriptive Stats')\n",
    "    mean_desc.to_excel(writer, sheet_name='Mean Descriptive Stats')\n",
    "    max_desc.to_excel(writer, sheet_name='Max Descriptive Stats')"
   ]
  },
  {
   "cell_type": "markdown",
   "metadata": {},
   "source": [
    "<a id=e_correlation_matrix></a>\n",
    "\n",
    "### 3.17 Correlation matrix"
   ]
  },
  {
   "cell_type": "markdown",
   "metadata": {},
   "source": [
    "\n",
    "A correlation matrix is a table that shows the correlation coefficients between many variables. Each cell in the table represents the correlation coefficient between two variables.\n",
    "\n",
    "Correlation coefficients quantify the strength and direction of the relationship between two variables. The value of a correlation coefficient ranges between -1 and 1:\n",
    "\n",
    "If the correlation coefficient is close to 1, it indicates a strong positive correlation, meaning that as one variable increases, the other variable tends to increase as well.\n",
    "If the correlation coefficient is close to -1, it indicates a strong negative correlation, meaning that as one variable increases, the other variable tends to decrease.\n",
    "If the correlation coefficient is close to 0, it indicates little to no linear relationship between the variables.\n",
    "The correlation matrix is a useful tool in exploratory data analysis (EDA) to understand the relationships between multiple variables in a dataset. It helps in identifying patterns, dependencies, and potential multicollinearity issues in the data. Additionally, it provides insights into which variables might be more strongly related to each other, which can be useful for feature selection or further analysis."
   ]
  },
  {
   "cell_type": "code",
   "execution_count": null,
   "metadata": {},
   "outputs": [],
   "source": [
    "# Specify the path to the CSV file\n",
    "e_mean_h_year_path = output_path + '/e_mean_h_year.csv'\n",
    "\n",
    "# Load the data into a DataFrame\n",
    "e_mean_h_year = pd.read_csv(e_mean_h_year_path)\n",
    "\n",
    "# Calculate correlation matrix\n",
    "correlation_matrix = e_mean_h_year.corr()\n",
    "\n",
    "# Print correlation matrix\n",
    "print(\"Correlation Matrix:\")\n",
    "print(correlation_matrix)\n",
    "\n",
    "# Plot the heatmap\n",
    "plt.figure(figsize=(10, 8))\n",
    "sns.heatmap(correlation_matrix, annot=True, cmap='coolwarm', fmt=\".2f\")\n",
    "plt.title(\"Correlation Matrix\")\n",
    "plt.show()\n"
   ]
  }
 ],
 "metadata": {
  "kernelspec": {
   "display_name": "Python 3",
   "language": "python",
   "name": "python3"
  },
  "language_info": {
   "codemirror_mode": {
    "name": "ipython",
    "version": 3
   },
   "file_extension": ".py",
   "mimetype": "text/x-python",
   "name": "python",
   "nbconvert_exporter": "python",
   "pygments_lexer": "ipython3",
   "version": "3.11.4"
  },
  "orig_nbformat": 4,
  "vscode": {
   "interpreter": {
    "hash": "bc6af221b00c3c60021414ea33fa0baacb37539d6045f7cd25717438a5bcddea"
   }
  }
 },
 "nbformat": 4,
 "nbformat_minor": 2
}
